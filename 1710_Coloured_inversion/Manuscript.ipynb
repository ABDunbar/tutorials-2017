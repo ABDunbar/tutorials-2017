{
 "cells": [
  {
   "cell_type": "markdown",
   "metadata": {},
   "source": [
    "**The Leading Edge - Geophysical Tutorial (TLE October 2017)** \n",
    "\n",
    "# Coloured Inversion Workflow\n",
    "\n",
    "Martin Blouin$^1$ and Erwan Gloaguen$^2$\n",
    "\n",
    "Whether it is deterministic, band-limited or stochastic, seismic inversion can bear many names depending on the process used to achieve it and on the purpose for which it is designed.  Basically, a seismic inversion is the process where reflectivity data is converted to ground mechanical properties, such as seismic impedance that is function of seismic velocity and density (see for example [Francis (2014)](#References) for a comprehensive and quick overview of seismic inversion options). Reflectivity informs on boundaries but impedance data are commonly used as they can be converted to informative ground property such as porosity and fluid content through known petrophysical relations.\n",
    "\n",
    "Following the work of [Lancaster and Whitcombe (2000)](#References), a fast method for providing band limited inversion of seismic data known as Coloured Inversion (CI) generated wide spread interest amongst interpreters in the Oil & Gas industry. The idea was born from the acknowledgement that sparse spike inversion process could be approximated by a single operator. The authors showed that this operator can be derived from well logs and yield relative impedance only by a simple convolution with the reflectivity data. Its popularity can be attributed to many factors: the simple workflow, the fast computation and the calculation of an operator instead of an explicit wavelet estimation. This makes the interpreter rely less on a specialist at an early stage (before more complex inversion are run on the data) and base is analysis on tangible and measurable well log information. With comparable result to sparse spiked inversion, CI can enhance features such as bed resolution and discontinuities. Since CI is directly linked to seismic data, the relative AI produced from it can be used as a base for comparison with other inversion to see what kind of information is introduced by constraints and *a priori* model.\n",
    "\n",
    "In this tutorial, we will follow the steps presented by Lancaster and Whitcombe in their 2000 Expanded abstract to achieve the so called « fast-track coloured inversion » and describe all the steps with open-source algorithms to go from reflectivity data to inversed cubes.\n",
    "\n",
    "1.\tFit a function to the log spectra\n",
    "2.\tGet difference spectra by substracting the seismic spectra from it\n",
    "3.\tConvert the difference spectra in an operator\n",
    "4.\tConvolute the stacked seismic with the operator\n",
    "5.\tQC – check the residuals by comparing log and AI section spectra\n",
    "\n",
    "The idea of this tutorial is to achieve Coloured Inversion without any external program, just python code with `numpy` and `scipy` library. The tutorial focus on presenting the whole workflow in the simplest fashion rather than trying to optimize parameters to recover interpretable features. Prior to running the workflow on your data, noise attenuation should be performed to ensure that the inversion process recovers frequencies associated only with the Earth signal."
   ]
  },
  {
   "cell_type": "markdown",
   "metadata": {},
   "source": [
    "## The dataset\n",
    "\n",
    "For this example, we use the dGB Earth Sciences, OpendTect F3 Dataset from which we recovered one well AI log and a vertical seismic 2D panel collocated with the F02-1 well log. F3 is a block in the Dutch sector of the North Sea. The block is covered by 3D seismic that was acquired to explore for Oil & Gas which are found below the interval selected for this demo set. The upper part ($<$1200ms) of this demo set consists of reflectors from the Miocene, Pliocene, and Pleistocene. Good descriptions of the geological settings for this dataset can be found in [Sorensen et al, 1997](#References) and [Overeem et al, 2001](#References)). We use the dip-steered median filter stacked dataset to get reduced noise on our input. A 2D panel of the survey at Inline=362 is presented in Figure 1."
   ]
  },
  {
   "cell_type": "markdown",
   "metadata": {},
   "source": [
    "![Figure 1](Figures/seismic_inline362.png \"Figure 1\")\n",
    "<center>*Figure 1. F3 dip-steered median filtered stacked seismic data at Inline=362.*</center>"
   ]
  },
  {
   "cell_type": "markdown",
   "metadata": {},
   "source": [
    "## Approximating the well spectra\n",
    "\n",
    "One of the key point in the development of this approach, relies in the fact that it is computationally inexpensive and easy to understand originated from the observations that the relfectivity sequence in sedimentary environments follows a logarithmic decay in amplitude as frequency increases. For the first step of our inversion, we need to look at the spectra and make sure it behaves as predicted by [Walden and Hosken (1984)](#References). We load the F02-1 well and calculate the spectra after converting it to time domain.\n",
    "```python\n",
    "n_log = AI_f021.shape[0]\n",
    "k_log=np.arange(n_log)\n",
    "T_log = 1000/depth_f021 # converting from ms to s\n",
    "freq_log = k_log/T_log\n",
    "freq_log = freq_log[range(n_log//2)] # one side frequency range\n",
    "spec_log = np.fft.fft(AI_f021)/n_log # fft computing and normalization\n",
    "spec_log = spec_log[range(n_log//2)]\n",
    "```\n",
    "Figure 2 shows the F02-1 AI log and the associated calculated spectra."
   ]
  },
  {
   "cell_type": "markdown",
   "metadata": {},
   "source": [
    "![Figure 2](Figures/f021_log_spectra.png \"Figure 2\")\n",
    "<center>*Figure 2. F02-1 well data. a) AI Log, b) Calculated frequency power spectra.*</center>"
   ]
  },
  {
   "cell_type": "markdown",
   "metadata": {},
   "source": [
    "To make the process more robust, CI packages offers you the option of averaging this spectrum over all the available wells before proceeding to any regression. In this example, as a demonstration, we are working only with a 2D section so we proceed only with the F02-1 which is collocated with this section. In order to proceed to a linear regression, we define two simple functions, one that serves as the linearization of the problem and one for the error function. I then use `scipy.optimize` to find the best fit.\n",
    "```python\n",
    "def my_fun(p,x):\n",
    "    return p[0]*x**p[1]\n",
    "    \n",
    "def err_fun(p,x,y):    \n",
    "    return (np.log10(y) - np.log10(my_fun(p,x)))\n",
    "\n",
    "qout,success = optimize.leastsq(err_fun, [1e5,-0.8],args=(freq_log[1:],np.abs(spec_log[1:])),maxfev=3000)\n",
    "```\n",
    "Figure 3 presents the spectra in log space with the linear function to approximate it. "
   ]
  },
  {
   "cell_type": "markdown",
   "metadata": {},
   "source": [
    "![Figure 3](Figures/Well_spectra_approx.png \"Figure 3\")\n",
    "<center>*Figure 3. F02-1 well spectra approximated by a linear function in log space*</center>"
   ]
  },
  {
   "cell_type": "markdown",
   "metadata": {},
   "source": [
    "## From difference spectra to the operator\n",
    "\n",
    "Now we have a continuous function that is now mathematically approximating the well log spectra permitting the seismic data to have the same frequency content. The next major step of the workflow is to get an operator that is representative of the difference between the two spectras. We first define some boundaries to our modelled spectra in the frequency domain. This is a critical part that will have great influence on the end result. We define a simple function to generate a 50 points Hanning shaped taper at both end of the spectra.\n",
    "```python\n",
    "x_tape_in = np.linspace(0,5,50)\n",
    "x_tape_out = np.linspace(100,120,50)\n",
    "id_seis = (freq_seis > 5) * (freq_seis < 100)\n",
    "y_tape_in = np.hanning(100)[:50]*my_fun(qout,x_tape_in[-1])\n",
    "y_tape_out = np.hanning(100)[50:]*my_fun(qout,x_tape_out[0])\n",
    "new_freq_log = np.hstack([x_tape_in,freq_seis[id_seis],x_tape_out])\n",
    "new_spec_log = np.hstack([y_tape_in,my_fun(qout,freq_seis[id_seis]),y_tape_out])\n",
    "```\n",
    "Now we take seismic traces next to the well location, averaged them and repeat the procedure we did for the well to get the spectra. Figure 4 presents the resulting modelled spectra with the underlying well log and seismic spectra. In this example, taper windows of 0-5 Hz and 100-120 Hz have been defined. It is important to note that our end result will be greatly influenced by this choice and care should be applied at this stage."
   ]
  },
  {
   "cell_type": "markdown",
   "metadata": {},
   "source": [
    "![Figure 4](Figures/All_spectra.png \"Figure 4\")\n",
    "<center>*Figure 4. Comparison of well log, seismic and modelled frequency power spectra*</center>"
   ]
  },
  {
   "cell_type": "markdown",
   "metadata": {},
   "source": [
    "After this step is completed, we simply substract the seismic spectra from our modelled spectra, take the resulting spectra, do a Fourier backtransform and do a phase rotation. \n",
    "```python\n",
    "operator = np.fft.ifft(gap)\n",
    "operator = np.fft.fftshift(operator)\n",
    "operator = operator.imag\n",
    "```\n",
    "Figure 5a presents the difference spectra and Figure 5b shows the resulting operator."
   ]
  },
  {
   "cell_type": "markdown",
   "metadata": {},
   "source": [
    "![Figure 5](Figures/diff_spec_and_operator.png \"Figure 5\")\n",
    "<center>*Figure 5. a) Resulting difference spectra b) Associated Operator*</center>"
   ]
  },
  {
   "cell_type": "markdown",
   "metadata": {},
   "source": [
    "## Impedance result\n",
    "\n",
    "Once the operator is calculated a simple trace by trace convolution with the reflectivity data is needed to perform coloured inversion.\n",
    "```python\n",
    "convo= np.array([np.convolve(panel_seis[:,col],operator,mode='same') for col in range(len(panel_seis[0,:]))])\n",
    "```\n",
    "Since the outputted relative impedance does not inform us about trends, it makes more sense to look at the result in a single formation. Indeed, both vertical and lateral trends are defined by a low frequency model and not directly by the seismic. It would be expected, for example, for impedance to increase as we go deeper and rock formations become stiffer. Here, it wouldn’t be the case if we look at the full vertical AI section. So instead, we will focus on an area of interest of about 300 ms in thickness between two horizons. Figure 6 presents the resulting relative impedance section scaled (0-1) in this area."
   ]
  },
  {
   "cell_type": "markdown",
   "metadata": {},
   "source": [
    "![Figure 6](Figures/Relative_impedance_result.png \"Figure 6\")\n",
    "<center>*Figure 6. Relative impedance result of the CI workflow*</center>"
   ]
  },
  {
   "cell_type": "markdown",
   "metadata": {
    "collapsed": true
   },
   "source": [
    "## A simple QC procedure\n",
    "\n",
    "To make sure that we did a good job defining our operator, we now look at the resulting spectra from the relative impedance collocated with the well log and see if we achieved a good fit with the well log spectra (Figure 7). It is to be noted that this fit was achieved by a manual fit and the workflow could be integrated in an iterative process to minimize the difference between the two spectra."
   ]
  },
  {
   "cell_type": "markdown",
   "metadata": {},
   "source": [
    "![Figure 7](Figures/QC.png \"Figure 7\")\n",
    "<center>*Figure 7. QC of th CI workflow with comparison of input and output spectra*</center>"
   ]
  },
  {
   "cell_type": "markdown",
   "metadata": {},
   "source": [
    "## Conclusion\n",
    "\n",
    "In this tutorial, we presented a straight forward application of coloured inversion using python with only `numpy` and `scipy` librairies. We demonstrate that this open-source workflow is simple and can yield informative images to interpreters really fast. It is called a robust process in the literature althought we saw it is somewhat sensitive to the chosen frequency range. There are also choices to be made about the window of application and the number of traces for spectra calculation. An important thing to understand about inversion such as CI is that it cannot be informative of trends."
   ]
  },
  {
   "cell_type": "markdown",
   "metadata": {},
   "source": [
    "Corresponding author: martin.blouin@geolearn.ca\n",
    "\n",
    "$^1$ GeoLEARN Solutions, Quebec City\n",
    "$^2$ INRS-ETE, Quebec City"
   ]
  },
  {
   "cell_type": "markdown",
   "metadata": {},
   "source": [
    "## References\n",
    "\n",
    "**Francis, A., 2014**, A simple guide to seismic inversion: GEOExPro, 10.2, 46-50.[Link to article](http://www.geoexpro.com/articles/2014/06/a-simple-guide-to-seismic-inversion)  \n",
    "\n",
    "**Overeem, I, G. J. Weltje, C. Bishop-Kay, and S. B. Kroonenberg, 2001**, The Late Cenozoic Eridanos delta system in the Southern North Sea Basin: a climate signal in sediment supply? Basin Research, 13, 293–312.\n",
    "DOI: [10.1046/j.1365-2117.2001.00151.x](http://onlinelibrary.wiley.com/doi/10.1046/j.1365-2117.2001.00151.x)\n",
    "\n",
    "**Sørensen, J.C., Gregersen, U, Breiner, M and Michelsen, O., 1997**, High frequency sequence stratigraphy of upper Cenozoic deposits: Mar. Petrol. Geol., 14, 99–123.  \n",
    "DOI: [10.1016/S0264-8172(96)00052-9](https://doi.org/10.1016/S0264-8172)  \n",
    "   \n",
    "**Walden, A.T., and Hosken, J.W.J., 1985**, An investigation of the spectral properties of primary reflection coefficients: Geophysical Prospecting , 33, 400-435. \n",
    "DOI: [10.1111/j.1365-2478.1985.tb00443.x](http://onlinelibrary.wiley.com/doi/10.1111/j.1365-2478.1985.tb00443.x/)  "
   ]
  },
  {
   "cell_type": "markdown",
   "metadata": {},
   "source": [
    "&copy; Martin Blouin. Licensed CC-BY-SA. Final article published by the Society of Exploration Geophysicists in **The Leading Edge**, October 2017.\n",
    "\n",
    "Citation:  Blouin, M and Gloaguen, E., 2017, Coloured Inversion Workflow: The Leading Edge,XX, XXX-XXX;\n",
    "doi: [XXX](http://dx.doi.org/xxx)."
   ]
  },
  {
   "cell_type": "code",
   "execution_count": null,
   "metadata": {
    "collapsed": true
   },
   "outputs": [],
   "source": []
  }
 ],
 "metadata": {
  "anaconda-cloud": {},
  "kernelspec": {
   "display_name": "Python [conda env:python3]",
   "language": "python",
   "name": "conda-env-python3-py"
  },
  "language_info": {
   "codemirror_mode": {
    "name": "ipython",
    "version": 3
   },
   "file_extension": ".py",
   "mimetype": "text/x-python",
   "name": "python",
   "nbconvert_exporter": "python",
   "pygments_lexer": "ipython3",
   "version": "3.5.2"
  }
 },
 "nbformat": 4,
 "nbformat_minor": 1
}
